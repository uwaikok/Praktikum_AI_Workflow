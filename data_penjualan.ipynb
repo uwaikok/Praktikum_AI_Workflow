{
  "nbformat": 4,
  "nbformat_minor": 0,
  "metadata": {
    "colab": {
      "provenance": []
    },
    "kernelspec": {
      "name": "python3",
      "display_name": "Python 3"
    },
    "language_info": {
      "name": "python"
    }
  },
  "cells": [
    {
      "cell_type": "code",
      "execution_count": 6,
      "metadata": {
        "id": "7IeLAePMcjYv"
      },
      "outputs": [],
      "source": [
        "import pandas as pd\n",
        "# Buat data penjualan toko\n",
        "data = {\n",
        "    \"Tanggal\": [\"2025-03-01\", \"2025-03-02\", \"2025-03-03\", \"2025-03-04\", \"2025-03-05\", \"2025-03-06\", \"2025-03-07\", \"2025-03-08\", \"2025-03-09\", \"2025-03-10\"],\n",
        "    \"Produk\": [\"Roko\", \"kopi\", \"Susu\", \"Sabun\", \"Shampo\",\n",
        "               \"Kecap\", \"Mie instan\", \"Tepung\", \"Sikat\", \"Saus Sambal\"],\n",
        "    \"Jumlah Terjual\": [10, 8, 12, 10, 6, 13, 9, 11, 7, 15],\n",
        "    \"Stok\": [25, 15, 20, 22, 18, 30, 28, 22, 19, 26],\n",
        "    \"Harga Satuan\": [15000, 2000, 3000, 5000, 2000, 10000, 14000, 25000, 11000, 13000]\n",
        "}\n",
        "\n",
        "# Simpan dalam DataFrame\n",
        "df = pd.DataFrame(data)\n",
        "\n",
        "# Simpan sebagai file CSV\n",
        "df.to_csv(\"data_penjualan.csv\", index=False)"
      ]
    },
    {
      "cell_type": "code",
      "source": [
        "#membaca file CSV\n",
        "df =pd.read_csv(\"data_penjualan.csv\")\n",
        "\n",
        "#menampilkan 5 data pertama\n",
        "print(df.head())"
      ],
      "metadata": {
        "colab": {
          "base_uri": "https://localhost:8080/"
        },
        "id": "n16qBWfMnr6i",
        "outputId": "36707c1a-07a5-49ac-cd24-0af1c4773cc0"
      },
      "execution_count": 7,
      "outputs": [
        {
          "output_type": "stream",
          "name": "stdout",
          "text": [
            "      Tanggal  Produk  Jumlah Terjual  Stok  Harga Satuan\n",
            "0  2025-03-01    Roko              10    25         15000\n",
            "1  2025-03-02    kopi               8    15          2000\n",
            "2  2025-03-03    Susu              12    20          3000\n",
            "3  2025-03-04   Sabun              10    22          5000\n",
            "4  2025-03-05  Shampo               6    18          2000\n"
          ]
        }
      ]
    },
    {
      "cell_type": "code",
      "source": [
        "#cek apa ada data yang kosong\n",
        "print(df.isnull().sum())\n",
        "\n",
        "#konvers kolom tanggal ke format datetime\n",
        "df[\"Tanggal\"]=pd.to_datetime(df[\"Tanggal\"])\n",
        "df[\"Total Penjualan\"]=df[\"Jumlah Terjual\"] *df[\"Harga Satuan\"]\n",
        "df[\"Keuntungan\"]=df[\"Total Penjualan\"] - (df[\"Jumlah Terjual\"]*10000)\n",
        "\n",
        "print(df.head())\n",
        ""
      ],
      "metadata": {
        "colab": {
          "base_uri": "https://localhost:8080/"
        },
        "id": "CnI5kg4xol8s",
        "outputId": "56932922-2f5f-48ab-c546-fa2a0dabcde2"
      },
      "execution_count": 8,
      "outputs": [
        {
          "output_type": "stream",
          "name": "stdout",
          "text": [
            "Tanggal           0\n",
            "Produk            0\n",
            "Jumlah Terjual    0\n",
            "Stok              0\n",
            "Harga Satuan      0\n",
            "dtype: int64\n",
            "     Tanggal  Produk  Jumlah Terjual  Stok  Harga Satuan  Total Penjualan  \\\n",
            "0 2025-03-01    Roko              10    25         15000           150000   \n",
            "1 2025-03-02    kopi               8    15          2000            16000   \n",
            "2 2025-03-03    Susu              12    20          3000            36000   \n",
            "3 2025-03-04   Sabun              10    22          5000            50000   \n",
            "4 2025-03-05  Shampo               6    18          2000            12000   \n",
            "\n",
            "   Keuntungan  \n",
            "0       50000  \n",
            "1      -64000  \n",
            "2      -84000  \n",
            "3      -50000  \n",
            "4      -48000  \n"
          ]
        }
      ]
    },
    {
      "cell_type": "code",
      "source": [
        "!pip install scikit-learn"
      ],
      "metadata": {
        "colab": {
          "base_uri": "https://localhost:8080/"
        },
        "id": "hYCCuGH4ozgw",
        "outputId": "0e0c4ce8-06d5-4355-a22c-92e6c3faaa0a"
      },
      "execution_count": 9,
      "outputs": [
        {
          "output_type": "stream",
          "name": "stdout",
          "text": [
            "Requirement already satisfied: scikit-learn in /usr/local/lib/python3.11/dist-packages (1.6.1)\n",
            "Requirement already satisfied: numpy>=1.19.5 in /usr/local/lib/python3.11/dist-packages (from scikit-learn) (1.26.4)\n",
            "Requirement already satisfied: scipy>=1.6.0 in /usr/local/lib/python3.11/dist-packages (from scikit-learn) (1.13.1)\n",
            "Requirement already satisfied: joblib>=1.2.0 in /usr/local/lib/python3.11/dist-packages (from scikit-learn) (1.4.2)\n",
            "Requirement already satisfied: threadpoolctl>=3.1.0 in /usr/local/lib/python3.11/dist-packages (from scikit-learn) (3.5.0)\n"
          ]
        }
      ]
    },
    {
      "cell_type": "code",
      "source": [
        "from sklearn.model_selection import train_test_split\n",
        "from sklearn.tree import DecisionTreeClassifier\n",
        "from sklearn.metrics import accuracy_score\n",
        "\n",
        "# Pilih fitur (x) dan target (y)\n",
        "x = df[[\"Jumlah Terjual\", \"Stok\"]]\n",
        "y = (df[\"Stok\"] < 5).astype(int) # 1 jika stok kurang dari 5, 0 jika cukup\n",
        "\n",
        "# Split data menjadi train dan test\n",
        "x_train, x_test, y_train, y_test = train_test_split(x, y, test_size=0.2, random_state=42)\n",
        "\n",
        "# Buat model Decision Tree\n",
        "model =DecisionTreeClassifier()\n",
        "model.fit(x_train, y_train)\n",
        "\n",
        "# Evaluasi model\n",
        "y_pred =model.predict(x_test)\n",
        "print(\"Akurasi Model: \", accuracy_score(y_test, y_pred))\n",
        "\n"
      ],
      "metadata": {
        "colab": {
          "base_uri": "https://localhost:8080/"
        },
        "id": "tpexxlsIo-ov",
        "outputId": "56bb4bc5-ee3d-4de7-94b8-457e97ec889f"
      },
      "execution_count": 13,
      "outputs": [
        {
          "output_type": "stream",
          "name": "stdout",
          "text": [
            "Akurasi Model:  1.0\n"
          ]
        }
      ]
    },
    {
      "cell_type": "code",
      "source": [
        "produk_baru=[[8,3]]\n",
        "prediksi=model.predict(produk_baru)\n",
        "\n",
        "if prediksi[0]==1:\n",
        "  print(\"produk perlu di restock\")\n",
        "else:\n",
        "  print(\"stock cukup\")"
      ],
      "metadata": {
        "colab": {
          "base_uri": "https://localhost:8080/"
        },
        "id": "-ineE7pvpvlR",
        "outputId": "6eb0a684-388f-44ee-ae11-4ff6efe0ffe9"
      },
      "execution_count": 14,
      "outputs": [
        {
          "output_type": "stream",
          "name": "stdout",
          "text": [
            "stock cukup\n"
          ]
        },
        {
          "output_type": "stream",
          "name": "stderr",
          "text": [
            "/usr/local/lib/python3.11/dist-packages/sklearn/utils/validation.py:2739: UserWarning: X does not have valid feature names, but DecisionTreeClassifier was fitted with feature names\n",
            "  warnings.warn(\n"
          ]
        }
      ]
    },
    {
      "cell_type": "code",
      "source": [
        "import matplotlib.pyplot as plt\n",
        "plt.scatter (df[\"Jumlah Terjual\"], df[\"Stok\"], c=df[\"Keuntungan\"], cmap=\"coolwarm\")\n",
        "plt.xlabel(\"Jumlah Terjual\")\n",
        "plt.ylabel(\"Stok\")\n",
        "plt.title(\"Analisis Penjualan dan Stok\")\n",
        "plt.colorbar (label=\"Keuntungan\")\n",
        "plt.show()"
      ],
      "metadata": {
        "colab": {
          "base_uri": "https://localhost:8080/",
          "height": 472
        },
        "id": "CLbInXsqp8b8",
        "outputId": "b20e15c5-35b7-4de0-c68f-a7ae8854cb88"
      },
      "execution_count": 15,
      "outputs": [
        {
          "output_type": "display_data",
          "data": {
            "text/plain": [
              "<Figure size 640x480 with 2 Axes>"
            ],
            "image/png": "[encoded data removed]"
          },
          "metadata": {}
        }
      ]
    }
  ]
}